{
 "cells": [
  {
   "cell_type": "code",
   "execution_count": 1,
   "id": "15f95062-1799-45ba-8d43-db9f463de529",
   "metadata": {},
   "outputs": [
    {
     "name": "stdout",
     "output_type": "stream",
     "text": [
      "Матрица A:\n",
      "[[0.86162004 0.73661032 0.40257264]\n",
      " [0.25442657 0.45150822 0.23838046]\n",
      " [0.94054241 0.72828874 0.33058007]]\n",
      "Вектор-столбец f:\n",
      "[[0.32705418]\n",
      " [0.60729725]\n",
      " [0.83802968]]\n"
     ]
    }
   ],
   "source": [
    "#Задание 1\n",
    "\n",
    "import numpy as np\n",
    "\n",
    "# Задаем размерность матрицы A и вектора-столбца f\n",
    "n = 3\n",
    "\n",
    "# Генерируем случайную матрицу A размером n x n\n",
    "A = np.random.rand(n, n)\n",
    "\n",
    "# Генерируем случайный вектор-столбец f размером n x 1\n",
    "f = np.random.rand(n, 1)\n",
    "\n",
    "print(\"Матрица A:\")\n",
    "print(A)\n",
    "print(\"Вектор-столбец f:\")\n",
    "print(f)"
   ]
  },
  {
   "cell_type": "code",
   "execution_count": 2,
   "id": "16b8f8b9-d96f-4b35-ba20-55f92491be14",
   "metadata": {},
   "outputs": [
    {
     "name": "stdout",
     "output_type": "stream",
     "text": [
      "Решение системы линейных уравнений с использованием обратной матрицы A:\n",
      "[[-1.20432525]\n",
      " [ 6.88839922]\n",
      " [-9.21409127]]\n"
     ]
    }
   ],
   "source": [
    "#Решение с использованием обратной матрицы A\n",
    "# Проверяем, что матрица A не является вырожденной\n",
    "if np.linalg.det(A) != 0:\n",
    "    # Решаем систему линейных уравнений с использованием обратной матрицы A\n",
    "    X = np.linalg.inv(A) @ f # @ - оператор умножения матриц\n",
    "    print(\"Решение системы линейных уравнений с использованием обратной матрицы A:\")\n",
    "    print(X)\n",
    "else:\n",
    "    print(\"Матрица A является вырожденной, решение системы линейных уравнений невозможно.\")"
   ]
  },
  {
   "cell_type": "code",
   "execution_count": 3,
   "id": "02474af2-4d17-46bf-b54b-024d3119b936",
   "metadata": {},
   "outputs": [
    {
     "name": "stdout",
     "output_type": "stream",
     "text": [
      "Решение системы линейных уравнений с использованием правила Крамера:\n",
      "[[-1.20432525]\n",
      " [ 6.88839922]\n",
      " [-9.21409127]]\n"
     ]
    }
   ],
   "source": [
    "# Решение системы линейных уравнений с использованием правила Крамера\n",
    "X = np.zeros((n, 1))\n",
    "det_A = np.linalg.det(A)\n",
    "\n",
    "for i in range(n):\n",
    "    Ai = A.copy()\n",
    "    Ai[:, i] = f.flatten()\n",
    "    det_Ai = np.linalg.det(Ai)\n",
    "    X[i] = det_Ai / det_A\n",
    "\n",
    "print(\"Решение системы линейных уравнений с использованием правила Крамера:\")\n",
    "print(X)"
   ]
  },
  {
   "cell_type": "code",
   "execution_count": 4,
   "id": "b004820f-333f-4591-9b07-3c015eaaab55",
   "metadata": {},
   "outputs": [
    {
     "name": "stdout",
     "output_type": "stream",
     "text": [
      "Решение системы линейных уравнений с помощью функции numpy.linalg.solve:\n",
      "[[-1.20432525]\n",
      " [ 6.88839922]\n",
      " [-9.21409127]]\n",
      "Решения, полученные разными методами, совпадают.\n"
     ]
    }
   ],
   "source": [
    "# Решение системы линейных уравнений с помощью функции numpy.linalg.solve\n",
    "X_numpy = np.linalg.solve(A, f)\n",
    "\n",
    "print(\"Решение системы линейных уравнений с помощью функции numpy.linalg.solve:\")\n",
    "print(X_numpy)\n",
    "\n",
    "# Сравнение решений\n",
    "if np.allclose(X, X_numpy):\n",
    "    print(\"Решения, полученные разными методами, совпадают.\")\n",
    "else:\n",
    "    print(\"Решения, полученные разными методами, не совпадают.\")"
   ]
  },
  {
   "cell_type": "code",
   "execution_count": 5,
   "id": "3a6da559-1ab6-490e-97ac-5cfd9553fd01",
   "metadata": {},
   "outputs": [
    {
     "name": "stdout",
     "output_type": "stream",
     "text": [
      "Решение системы: [2.16666667 2.5        1.        ]\n"
     ]
    }
   ],
   "source": [
    "#Задание 2\n",
    "\n",
    "import numpy as np\n",
    "\n",
    "def gaussian_elimination(A, b):\n",
    "    n = len(A)\n",
    "    for i in range(n):\n",
    "        # Выбор главного элемента в столбце\n",
    "        max_row = i\n",
    "        for j in range(i + 1, n):\n",
    "            if abs(A[j, i]) > abs(A[max_row, i]):\n",
    "                max_row = j\n",
    "        A[[i, max_row]] = A[[max_row, i]]\n",
    "        b[[i, max_row]] = b[[max_row, i]]\n",
    "        \n",
    "        # Преобразование матрицы\n",
    "        for j in range(i + 1, n):\n",
    "            ratio = A[j, i] / A[i, i]\n",
    "            A[j, i:] = A[j, i:] - ratio * A[i, i:]\n",
    "            b[j] = b[j] - ratio * b[i]\n",
    "    \n",
    "    # Обратный ход метода Гаусса\n",
    "    x = np.zeros(n)\n",
    "    for i in range(n - 1, -1, -1):\n",
    "        x[i] = (b[i] - np.dot(A[i, i+1:], x[i+1:])) / A[i, i]\n",
    "    \n",
    "    return x\n",
    "\n",
    "# Пример использования\n",
    "A = np.array([[2, 1, -1], [1, -3, 2], [3, -1, -1]])\n",
    "b = np.array([5, -2, 3])\n",
    "\n",
    "x = gaussian_elimination(A, b)\n",
    "print(\"Решение системы:\", x)\n"
   ]
  },
  {
   "cell_type": "code",
   "execution_count": 10,
   "id": "bca94fc1-5ba3-4e71-8b57-9663bc6ca6a5",
   "metadata": {},
   "outputs": [
    {
     "data": {
      "text/plain": [
       "'Метод Гаусса дал более точный результат.'"
      ]
     },
     "execution_count": 10,
     "metadata": {},
     "output_type": "execute_result"
    }
   ],
   "source": [
    "import numpy as np\n",
    "\n",
    "# Генерация случайной матрицы A размерности 20x20\n",
    "A = np.random.rand(20, 20)\n",
    "\n",
    "# Генерация случайного вектора X\n",
    "X = np.random.rand(20)\n",
    "\n",
    "# Определение числа обусловленности матрицы A\n",
    "cond_A = np.linalg.cond(A)\n",
    "\n",
    "# Умножение матрицы A на константу\n",
    "A_modified = A * 1000\n",
    "\n",
    "# Вычисление вектора f = AX\n",
    "f = np.dot(A, X)\n",
    "\n",
    "# Решение системы линейных уравнений методом Гаусса\n",
    "solution_gauss = np.linalg.solve(A, f)\n",
    "\n",
    "# Решение системы линейных уравнений методом с выбором главного элемента\n",
    "solution_pivot = np.linalg.solve(A_modified, f)\n",
    "\n",
    "# Вычисление разницы между найденными решениями и известным вектором X\n",
    "difference_gauss = np.linalg.norm(solution_gauss - X)\n",
    "difference_pivot = np.linalg.norm(solution_pivot - X)\n",
    "\n",
    "# Сравнение значений разницы\n",
    "if difference_gauss < difference_pivot:\n",
    "    result = \"Метод Гаусса дал более точный результат.\"\n",
    "else:\n",
    "    result = \"Метод с выбором главного элемента дал более точный результат.\"\n",
    "\n",
    "result\n"
   ]
  },
  {
   "cell_type": "code",
   "execution_count": null,
   "id": "6fcd7bc9-8035-49e2-af49-d4c1a9ad6db0",
   "metadata": {},
   "outputs": [],
   "source": []
  }
 ],
 "metadata": {
  "kernelspec": {
   "display_name": "Python 3 (ipykernel)",
   "language": "python",
   "name": "python3"
  },
  "language_info": {
   "codemirror_mode": {
    "name": "ipython",
    "version": 3
   },
   "file_extension": ".py",
   "mimetype": "text/x-python",
   "name": "python",
   "nbconvert_exporter": "python",
   "pygments_lexer": "ipython3",
   "version": "3.12.2"
  }
 },
 "nbformat": 4,
 "nbformat_minor": 5
}
